{
 "cells": [
  {
   "cell_type": "markdown",
   "metadata": {},
   "source": [
    "# concern classifier"
   ]
  },
  {
   "cell_type": "code",
   "execution_count": 2,
   "metadata": {},
   "outputs": [
    {
     "name": "stdout",
     "output_type": "stream",
     "text": [
      "2.18.0\n"
     ]
    }
   ],
   "source": [
    "from transformers import TFBertForSequenceClassification, BertTokenizer\n",
    "import tensorflow as tf\n",
    "print(tf.__version__)"
   ]
  },
  {
   "cell_type": "code",
   "execution_count": 3,
   "metadata": {},
   "outputs": [
    {
     "data": {
      "application/vnd.jupyter.widget-view+json": {
       "model_id": "26e3a8d5824147daae1426cbb892b46a",
       "version_major": 2,
       "version_minor": 0
      },
      "text/plain": [
       "model.safetensors:   0%|          | 0.00/440M [00:00<?, ?B/s]"
      ]
     },
     "metadata": {},
     "output_type": "display_data"
    },
    {
     "name": "stderr",
     "output_type": "stream",
     "text": [
      "2024-10-27 01:39:02.637057: E external/local_xla/xla/stream_executor/cuda/cuda_driver.cc:152] failed call to cuInit: INTERNAL: CUDA error: Failed call to cuInit: CUDA_ERROR_NO_DEVICE: no CUDA-capable device is detected\n",
      "All PyTorch model weights were used when initializing TFBertForSequenceClassification.\n",
      "\n",
      "Some weights or buffers of the TF 2.0 model TFBertForSequenceClassification were not initialized from the PyTorch model and are newly initialized: ['classifier.weight', 'classifier.bias']\n",
      "You should probably TRAIN this model on a down-stream task to be able to use it for predictions and inference.\n"
     ]
    },
    {
     "name": "stdout",
     "output_type": "stream",
     "text": [
      "Classified Concern: Depression\n"
     ]
    }
   ],
   "source": [
    "from transformers import TFBertForSequenceClassification, BertTokenizer\n",
    "import tensorflow as tf\n",
    "\n",
    "# Load a pre-trained BERT model for TensorFlow\n",
    "model_name = \"bert-base-uncased\"\n",
    "tokenizer = BertTokenizer.from_pretrained(model_name)\n",
    "model = TFBertForSequenceClassification.from_pretrained(model_name, num_labels=5) # assuming 5 categories\n",
    "\n",
    "def classify_concern(text):\n",
    "    # Tokenize the input text\n",
    "    inputs = tokenizer(text, return_tensors=\"tf\")\n",
    "    # Run the inputs through the model\n",
    "    outputs = model(inputs)\n",
    "    # Get the predicted class\n",
    "    predicted_class = tf.argmax(outputs.logits, axis=1).numpy()[0]\n",
    "    # Define the categories\n",
    "    categories = [\"Anxiety\", \"Depression\", \"Stress\", \"Insomnia\", \"Eating Disorder\"]\n",
    "    return categories[predicted_class]\n",
    "\n",
    "# Example usage\n",
    "concern = classify_concern(\"feeling very anxious\")\n",
    "print(\"Classified Concern:\", concern)\n"
   ]
  },
  {
   "cell_type": "code",
   "execution_count": null,
   "metadata": {},
   "outputs": [],
   "source": []
  },
  {
   "cell_type": "markdown",
   "metadata": {},
   "source": [
    "# polarity finder\n",
    "\n",
    "# not working"
   ]
  },
  {
   "cell_type": "code",
   "execution_count": 4,
   "metadata": {},
   "outputs": [
    {
     "name": "stderr",
     "output_type": "stream",
     "text": [
      "No model was supplied, defaulted to distilbert/distilbert-base-uncased-finetuned-sst-2-english and revision 714eb0f (https://huggingface.co/distilbert/distilbert-base-uncased-finetuned-sst-2-english).\n",
      "Using a pipeline without specifying a model name and revision in production is not recommended.\n"
     ]
    },
    {
     "data": {
      "application/vnd.jupyter.widget-view+json": {
       "model_id": "952b2cac69434e568536306df3e14d10",
       "version_major": 2,
       "version_minor": 0
      },
      "text/plain": [
       "model.safetensors:   0%|          | 0.00/268M [00:00<?, ?B/s]"
      ]
     },
     "metadata": {},
     "output_type": "display_data"
    },
    {
     "name": "stderr",
     "output_type": "stream",
     "text": [
      "All PyTorch model weights were used when initializing TFDistilBertForSequenceClassification.\n",
      "\n",
      "All the weights of TFDistilBertForSequenceClassification were initialized from the PyTorch model.\n",
      "If your task is similar to the task the model of the checkpoint was trained on, you can already use TFDistilBertForSequenceClassification for predictions without further training.\n"
     ]
    },
    {
     "data": {
      "application/vnd.jupyter.widget-view+json": {
       "model_id": "03dff144d2ac46fa883b6f89a4a4be66",
       "version_major": 2,
       "version_minor": 0
      },
      "text/plain": [
       "tokenizer_config.json:   0%|          | 0.00/48.0 [00:00<?, ?B/s]"
      ]
     },
     "metadata": {},
     "output_type": "display_data"
    },
    {
     "data": {
      "application/vnd.jupyter.widget-view+json": {
       "model_id": "f52fe3a3eaf54bda99e7f2da1f3cb516",
       "version_major": 2,
       "version_minor": 0
      },
      "text/plain": [
       "vocab.txt:   0%|          | 0.00/232k [00:00<?, ?B/s]"
      ]
     },
     "metadata": {},
     "output_type": "display_data"
    },
    {
     "name": "stdout",
     "output_type": "stream",
     "text": [
      "Polarity: NEGATIVE, Score: 0.9955092668533325\n"
     ]
    }
   ],
   "source": [
    "from transformers import pipeline\n",
    "\n",
    "# Load sentiment analysis pipeline from Hugging Face\n",
    "sentiment_analyzer = pipeline(\"sentiment-analysis\")\n",
    "\n",
    "def find_polarity(text):\n",
    "    result = sentiment_analyzer(text)\n",
    "    polarity = result[0]['label']\n",
    "    score = result[0]['score']\n",
    "    return polarity, score\n",
    "\n",
    "# Example usage\n",
    "text = \"I feel very anxious lately\"\n",
    "polarity, score = find_polarity(text)\n",
    "print(f\"Polarity: {polarity}, Score: {score}\")\n"
   ]
  },
  {
   "cell_type": "markdown",
   "metadata": {},
   "source": [
    "# keyword extractor "
   ]
  },
  {
   "cell_type": "code",
   "execution_count": 9,
   "metadata": {},
   "outputs": [
    {
     "name": "stdout",
     "output_type": "stream",
     "text": [
      "Extracted Keywords: []\n"
     ]
    }
   ],
   "source": [
    "import spacy\n",
    "\n",
    "# Load spaCy model (a pre-trained model that could be fine-tuned for specific mental health terms)\n",
    "nlp = spacy.load(\"en_core_web_sm\")\n",
    "\n",
    "def extract_keywords(text):\n",
    "    doc = nlp(text)\n",
    "    keywords = [ent.text for ent in doc.ents if ent.label_ == \"MENTAL_HEALTH\"]\n",
    "    return keywords\n",
    "\n",
    "# Example usage\n",
    "text = \"I've been feeling very anxious lately.\"\n",
    "keywords = extract_keywords(text)\n",
    "print(\"Extracted Keywords:\", keywords)"
   ]
  },
  {
   "cell_type": "markdown",
   "metadata": {},
   "source": [
    "# intensify scoring"
   ]
  },
  {
   "cell_type": "code",
   "execution_count": 10,
   "metadata": {},
   "outputs": [
    {
     "name": "stdout",
     "output_type": "stream",
     "text": [
      "Intensity Score: 8\n"
     ]
    }
   ],
   "source": [
    "def score_intensity(text):\n",
    "    if \"very\" in text or \"extremely\" in text:\n",
    "        return 8\n",
    "    elif \"slightly\" in text or \"a bit\" in text:\n",
    "        return 4\n",
    "    else:\n",
    "        return 6  # default intensity\n",
    "\n",
    "# Example usage\n",
    "intensity = score_intensity(\"I feel extremely anxious\")\n",
    "print(\"Intensity Score:\", intensity)"
   ]
  },
  {
   "cell_type": "markdown",
   "metadata": {},
   "source": [
    "# time based"
   ]
  },
  {
   "cell_type": "code",
   "execution_count": 11,
   "metadata": {},
   "outputs": [
    {
     "name": "stdout",
     "output_type": "stream",
     "text": [
      "{'timestamp': datetime.datetime(2024, 10, 27, 1, 48, 30, 855199), 'polarity': 'NEGATIVE', 'score': 0.9996077418327332, 'keywords': [], 'concern_category': 'Depression', 'intensity': 6}\n",
      "{'timestamp': datetime.datetime(2024, 10, 27, 1, 48, 31, 233277), 'polarity': 'NEGATIVE', 'score': 0.9623287320137024, 'keywords': [], 'concern_category': 'Depression', 'intensity': 6}\n"
     ]
    }
   ],
   "source": [
    "from datetime import datetime\n",
    "\n",
    "# To store results in a timeline\n",
    "timeline_data = []\n",
    "\n",
    "def track_timeline(input_text):\n",
    "    timestamp = datetime.now()\n",
    "    polarity, score = find_polarity(input_text)\n",
    "    keywords = extract_keywords(input_text)\n",
    "    concern_category = classify_concern(\" \".join(keywords))\n",
    "    intensity = score_intensity(\" \".join(keywords))\n",
    "    \n",
    "    entry = {\n",
    "        \"timestamp\": timestamp,\n",
    "        \"polarity\": polarity,\n",
    "        \"score\": score,\n",
    "        \"keywords\": keywords,\n",
    "        \"concern_category\": concern_category,\n",
    "        \"intensity\": intensity\n",
    "    }\n",
    "    timeline_data.append(entry)\n",
    "\n",
    "    # Analyze sentiment shift\n",
    "    if len(timeline_data) > 1:\n",
    "        previous_entry = timeline_data[-2]\n",
    "        if entry[\"polarity\"] != previous_entry[\"polarity\"]:\n",
    "            shift = f\"Shift from {previous_entry['polarity']} to {entry['polarity']}\"\n",
    "        else:\n",
    "            shift = \"No significant sentiment shift\"\n",
    "    else:\n",
    "        shift = \"First entry, no shift analysis\"\n",
    "    \n",
    "    return entry, shift\n",
    "\n",
    "# Example usage over a timeline\n",
    "track_timeline(\"I feel very low and can’t sleep well.\")\n",
    "track_timeline(\"I feel a bit better but still anxious.\")\n",
    "for data in timeline_data:\n",
    "    print(data)"
   ]
  },
  {
   "cell_type": "markdown",
   "metadata": {},
   "source": [
    "# full integration"
   ]
  },
  {
   "cell_type": "code",
   "execution_count": 12,
   "metadata": {},
   "outputs": [
    {
     "name": "stdout",
     "output_type": "stream",
     "text": [
      "{'polarity': 'NEGATIVE', 'keywords': [], 'concern': 'Depression', 'intensity': 6, 'shift': 'No significant sentiment shift'}\n",
      "{'polarity': 'NEGATIVE', 'keywords': [], 'concern': 'Depression', 'intensity': 6, 'shift': 'No significant sentiment shift'}\n"
     ]
    }
   ],
   "source": [
    "def process_user_input(input_text):\n",
    "    polarity, _ = find_polarity(input_text)\n",
    "    keywords = extract_keywords(input_text)\n",
    "    concern = classify_concern(\" \".join(keywords))\n",
    "    intensity = score_intensity(\" \".join(keywords))\n",
    "    \n",
    "    entry, shift = track_timeline(input_text)\n",
    "    \n",
    "    return {\n",
    "        \"polarity\": polarity,\n",
    "        \"keywords\": keywords,\n",
    "        \"concern\": concern,\n",
    "        \"intensity\": intensity,\n",
    "        \"shift\": shift\n",
    "    }\n",
    "\n",
    "# Example sequence of inputs\n",
    "inputs = [\n",
    "    \"I can’t sleep well and I feel very low.\",\n",
    "    \"I feel a bit better but still anxious.\"\n",
    "]\n",
    "\n",
    "for input_text in inputs:\n",
    "    result = process_user_input(input_text)\n",
    "    print(result)"
   ]
  }
 ],
 "metadata": {
  "kernelspec": {
   "display_name": ".virtualenv",
   "language": "python",
   "name": "python3"
  },
  "language_info": {
   "codemirror_mode": {
    "name": "ipython",
    "version": 3
   },
   "file_extension": ".py",
   "mimetype": "text/x-python",
   "name": "python",
   "nbconvert_exporter": "python",
   "pygments_lexer": "ipython3",
   "version": "3.10.12"
  }
 },
 "nbformat": 4,
 "nbformat_minor": 2
}
